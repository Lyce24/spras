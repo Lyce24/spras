{
 "cells": [
  {
   "cell_type": "code",
   "execution_count": 25,
   "metadata": {},
   "outputs": [
    {
     "data": {
      "text/plain": [
       "[{'data': {'id': 'A', 'value': 'A', 'name': 'A'}},\n",
       " {'data': {'id': 'B', 'value': 'B', 'name': 'B'}},\n",
       " {'data': {'id': 'C', 'value': 'C', 'name': 'C'}},\n",
       " {'data': {'id': 'D', 'value': 'D', 'name': 'D'}}]"
      ]
     },
     "execution_count": 25,
     "metadata": {},
     "output_type": "execute_result"
    }
   ],
   "source": [
    "import networkx as nx\n",
    "\n",
    "# Create a NetworkX graph\n",
    "G = nx.Graph()\n",
    "G.add_edge('A', 'B')\n",
    "G.add_edge('B', 'C')\n",
    "G.add_edge('C', 'D')\n",
    "\n",
    "# Convert the NetworkX graph to a Cytoscape network\n",
    "data = nx.cytoscape_data(G) \n",
    "data['elements']['nodes']"
   ]
  }
 ],
 "metadata": {
  "kernelspec": {
   "display_name": "spras",
   "language": "python",
   "name": "python3"
  },
  "language_info": {
   "codemirror_mode": {
    "name": "ipython",
    "version": 3
   },
   "file_extension": ".py",
   "mimetype": "text/x-python",
   "name": "python",
   "nbconvert_exporter": "python",
   "pygments_lexer": "ipython3",
   "version": "3.8.16"
  },
  "orig_nbformat": 4
 },
 "nbformat": 4,
 "nbformat_minor": 2
}
